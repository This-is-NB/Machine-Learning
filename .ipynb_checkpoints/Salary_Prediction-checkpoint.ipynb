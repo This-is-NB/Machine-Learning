{
 "cells": [
  {
   "cell_type": "code",
   "execution_count": 2,
   "id": "294628ff",
   "metadata": {},
   "outputs": [],
   "source": [
    "import pandas as pd\n",
    "data = pd.read_csv(\"salary.csv\")"
   ]
  },
  {
   "cell_type": "code",
   "execution_count": 1,
   "id": "6110e2be",
   "metadata": {},
   "outputs": [
    {
     "ename": "NameError",
     "evalue": "name 'data' is not defined",
     "output_type": "error",
     "traceback": [
      "\u001b[1;31m---------------------------------------------------------------------------\u001b[0m",
      "\u001b[1;31mNameError\u001b[0m                                 Traceback (most recent call last)",
      "\u001b[1;32m<ipython-input-1-c5d84736ba45>\u001b[0m in \u001b[0;36m<module>\u001b[1;34m\u001b[0m\n\u001b[1;32m----> 1\u001b[1;33m \u001b[0mdata\u001b[0m\u001b[1;33m\u001b[0m\u001b[1;33m\u001b[0m\u001b[0m\n\u001b[0m",
      "\u001b[1;31mNameError\u001b[0m: name 'data' is not defined"
     ]
    }
   ],
   "source": [
    "data"
   ]
  },
  {
   "cell_type": "code",
   "execution_count": null,
   "id": "10f1f8dd",
   "metadata": {},
   "outputs": [],
   "source": [
    "# To print initial 5 records \n",
    "data.head()"
   ]
  },
  {
   "cell_type": "code",
   "execution_count": 5,
   "id": "52586c53",
   "metadata": {},
   "outputs": [
    {
     "name": "stdout",
     "output_type": "stream",
     "text": [
      "<class 'pandas.core.frame.DataFrame'>\n",
      "RangeIndex: 30 entries, 0 to 29\n",
      "Data columns (total 2 columns):\n",
      " #   Column           Non-Null Count  Dtype  \n",
      "---  ------           --------------  -----  \n",
      " 0   YearsExperience  30 non-null     float64\n",
      " 1   Salary           30 non-null     float64\n",
      "dtypes: float64(2)\n",
      "memory usage: 608.0 bytes\n"
     ]
    }
   ],
   "source": [
    "# to get info about the dataset \n",
    "data.info()"
   ]
  },
  {
   "cell_type": "code",
   "execution_count": 6,
   "id": "d54e04e4",
   "metadata": {},
   "outputs": [],
   "source": [
    "# Now, we have features as Experience \n",
    "x = data[\"YearsExperience\"]"
   ]
  },
  {
   "cell_type": "code",
   "execution_count": 7,
   "id": "0e9859d8",
   "metadata": {},
   "outputs": [
    {
     "data": {
      "text/plain": [
       "pandas.core.series.Series"
      ]
     },
     "execution_count": 7,
     "metadata": {},
     "output_type": "execute_result"
    }
   ],
   "source": [
    "type(x)"
   ]
  },
  {
   "cell_type": "code",
   "execution_count": 8,
   "id": "a04b0e18",
   "metadata": {},
   "outputs": [
    {
     "data": {
      "text/plain": [
       "numpy.ndarray"
      ]
     },
     "execution_count": 8,
     "metadata": {},
     "output_type": "execute_result"
    }
   ],
   "source": [
    "# Now as type is series, we have to change to numpy array \n",
    "x=x.values\n",
    "type(x)"
   ]
  },
  {
   "cell_type": "code",
   "execution_count": 9,
   "id": "deeda34b",
   "metadata": {},
   "outputs": [
    {
     "data": {
      "text/plain": [
       "(30, 1)"
      ]
     },
     "execution_count": 9,
     "metadata": {},
     "output_type": "execute_result"
    }
   ],
   "source": [
    "# Now we need to reshape the data\n",
    "x=x.reshape(-1,1)  # -1 will take the len of record. \n",
    "x.shape"
   ]
  },
  {
   "cell_type": "code",
   "execution_count": 11,
   "id": "04255816",
   "metadata": {},
   "outputs": [],
   "source": [
    "y = data[\"Salary\"]"
   ]
  },
  {
   "cell_type": "code",
   "execution_count": 12,
   "id": "3e093adf",
   "metadata": {},
   "outputs": [],
   "source": [
    "from sklearn.linear_model import LinearRegression\n",
    "model = LinearRegression()"
   ]
  },
  {
   "cell_type": "code",
   "execution_count": 13,
   "id": "c2114658",
   "metadata": {},
   "outputs": [
    {
     "data": {
      "text/plain": [
       "LinearRegression()"
      ]
     },
     "execution_count": 13,
     "metadata": {},
     "output_type": "execute_result"
    }
   ],
   "source": [
    "model.fit(x,y)"
   ]
  },
  {
   "cell_type": "code",
   "execution_count": 14,
   "id": "9de02f4e",
   "metadata": {},
   "outputs": [
    {
     "data": {
      "text/plain": [
       "array([9449.96232146])"
      ]
     },
     "execution_count": 14,
     "metadata": {},
     "output_type": "execute_result"
    }
   ],
   "source": [
    "# To get the weight/coefficient \n",
    "model.coef_"
   ]
  },
  {
   "cell_type": "code",
   "execution_count": 15,
   "id": "87575c8e",
   "metadata": {},
   "outputs": [
    {
     "data": {
      "text/plain": [
       "array([49417.10600231])"
      ]
     },
     "execution_count": 15,
     "metadata": {},
     "output_type": "execute_result"
    }
   ],
   "source": [
    "# Now, let us predict \n",
    "model.predict([[2.5]])"
   ]
  },
  {
   "cell_type": "markdown",
   "id": "621343e4",
   "metadata": {},
   "source": [
    "So we know it uses y=wx formula"
   ]
  },
  {
   "cell_type": "code",
   "execution_count": 16,
   "id": "faf106aa",
   "metadata": {},
   "outputs": [
    {
     "name": "stdout",
     "output_type": "stream",
     "text": [
      "[23624.90580364]\n"
     ]
    }
   ],
   "source": [
    "# Let us manually calculate \n",
    "manual_pred = model.coef_ * 2.5\n",
    "print(manual_pred)"
   ]
  },
  {
   "cell_type": "code",
   "execution_count": 17,
   "id": "fbdde80b",
   "metadata": {},
   "outputs": [
    {
     "name": "stdout",
     "output_type": "stream",
     "text": [
      "[49417.10600231]\n"
     ]
    }
   ],
   "source": [
    "# Model prediction\n",
    "model_pred = model.predict([[2.5]])\n",
    "print(model_pred)"
   ]
  },
  {
   "cell_type": "markdown",
   "id": "27a55ec4",
   "metadata": {},
   "source": [
    "#### There is huge difference between Manual Predicted Value and Model Predicted\n",
    "\n",
    "### Why??"
   ]
  },
  {
   "cell_type": "code",
   "execution_count": 19,
   "id": "94dfcf8a",
   "metadata": {},
   "outputs": [],
   "source": [
    "# If we have a record with experience as 0 years. We dont want to provide 0 salary.\n",
    "# We have to set some initial salary which is to be provided. \n",
    "# That means we have to add some constant in our equation. \n",
    "# This constant here is called as Bias. \n",
    "# SO now formula becomes \n",
    "\n",
    "# y = w*x + b where w is weight and b is bias"
   ]
  },
  {
   "cell_type": "code",
   "execution_count": 21,
   "id": "d14008cc",
   "metadata": {},
   "outputs": [
    {
     "data": {
      "text/plain": [
       "25792.20019866871"
      ]
     },
     "execution_count": 21,
     "metadata": {},
     "output_type": "execute_result"
    }
   ],
   "source": [
    "# To get bias \n",
    "# Bias is actually the intercept of the regression line on y axis i.e when x =0\n",
    "model.intercept_"
   ]
  },
  {
   "cell_type": "code",
   "execution_count": null,
   "id": "b08a42ba",
   "metadata": {},
   "outputs": [],
   "source": [
    "# Now, let us check with eqn y = wx+c\n",
    "\n",
    "pred = model.coef_ * 2.5 + model.intercept_\n",
    "print(pred)"
   ]
  },
  {
   "cell_type": "markdown",
   "id": "09ba282d",
   "metadata": {},
   "source": [
    "Now, it has same value as the prediction by model. "
   ]
  },
  {
   "cell_type": "code",
   "execution_count": null,
   "id": "2561e6b1",
   "metadata": {},
   "outputs": [],
   "source": []
  }
 ],
 "metadata": {
  "kernelspec": {
   "display_name": "Python 3",
   "language": "python",
   "name": "python3"
  },
  "language_info": {
   "codemirror_mode": {
    "name": "ipython",
    "version": 3
   },
   "file_extension": ".py",
   "mimetype": "text/x-python",
   "name": "python",
   "nbconvert_exporter": "python",
   "pygments_lexer": "ipython3",
   "version": "3.8.8"
  }
 },
 "nbformat": 4,
 "nbformat_minor": 5
}
